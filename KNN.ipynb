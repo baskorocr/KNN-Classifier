{
  "nbformat": 4,
  "nbformat_minor": 0,
  "metadata": {
    "colab": {
      "name": "Datmin.ipynb",
      "provenance": []
    },
    "kernelspec": {
      "name": "python3",
      "display_name": "Python 3"
    },
    "language_info": {
      "name": "python"
    }
  },
  "cells": [
    {
      "cell_type": "markdown",
      "source": [
        "IMPORT LIBRARY DAN DATASHEET\n",
        "\n"
      ],
      "metadata": {
        "id": "l5e6m18KE0ET"
      }
    },
    {
      "cell_type": "code",
      "execution_count": null,
      "metadata": {
        "id": "OOtCJh3nnLvI"
      },
      "outputs": [],
      "source": [
        "import pandas as pd\n",
        "from sklearn import preprocessing\n",
        "import numpy as np"
      ]
    },
    {
      "cell_type": "code",
      "source": [
        "df = pd.read_csv('sample_data/suhu.csv')\n",
        "df.head()"
      ],
      "metadata": {
        "colab": {
          "base_uri": "https://localhost:8080/",
          "height": 206
        },
        "id": "vmhR0ouOo9ea",
        "outputId": "82f87b47-cf1c-436b-d51a-8346746265d6"
      },
      "execution_count": null,
      "outputs": [
        {
          "output_type": "execute_result",
          "data": {
            "text/html": [
              "\n",
              "  <div id=\"df-5eb0bf99-4179-4f69-b028-6fdb99aa326d\">\n",
              "    <div class=\"colab-df-container\">\n",
              "      <div>\n",
              "<style scoped>\n",
              "    .dataframe tbody tr th:only-of-type {\n",
              "        vertical-align: middle;\n",
              "    }\n",
              "\n",
              "    .dataframe tbody tr th {\n",
              "        vertical-align: top;\n",
              "    }\n",
              "\n",
              "    .dataframe thead th {\n",
              "        text-align: right;\n",
              "    }\n",
              "</style>\n",
              "<table border=\"1\" class=\"dataframe\">\n",
              "  <thead>\n",
              "    <tr style=\"text-align: right;\">\n",
              "      <th></th>\n",
              "      <th>humidity</th>\n",
              "      <th>temperature</th>\n",
              "      <th>status</th>\n",
              "    </tr>\n",
              "  </thead>\n",
              "  <tbody>\n",
              "    <tr>\n",
              "      <th>0</th>\n",
              "      <td>68.0</td>\n",
              "      <td>32.3</td>\n",
              "      <td>NORMAL</td>\n",
              "    </tr>\n",
              "    <tr>\n",
              "      <th>1</th>\n",
              "      <td>68.0</td>\n",
              "      <td>32.2</td>\n",
              "      <td>NORMAL</td>\n",
              "    </tr>\n",
              "    <tr>\n",
              "      <th>2</th>\n",
              "      <td>68.0</td>\n",
              "      <td>32.2</td>\n",
              "      <td>NORMAL</td>\n",
              "    </tr>\n",
              "    <tr>\n",
              "      <th>3</th>\n",
              "      <td>68.0</td>\n",
              "      <td>32.2</td>\n",
              "      <td>NORMAL</td>\n",
              "    </tr>\n",
              "    <tr>\n",
              "      <th>4</th>\n",
              "      <td>68.0</td>\n",
              "      <td>32.2</td>\n",
              "      <td>NORMAL</td>\n",
              "    </tr>\n",
              "  </tbody>\n",
              "</table>\n",
              "</div>\n",
              "      <button class=\"colab-df-convert\" onclick=\"convertToInteractive('df-5eb0bf99-4179-4f69-b028-6fdb99aa326d')\"\n",
              "              title=\"Convert this dataframe to an interactive table.\"\n",
              "              style=\"display:none;\">\n",
              "        \n",
              "  <svg xmlns=\"http://www.w3.org/2000/svg\" height=\"24px\"viewBox=\"0 0 24 24\"\n",
              "       width=\"24px\">\n",
              "    <path d=\"M0 0h24v24H0V0z\" fill=\"none\"/>\n",
              "    <path d=\"M18.56 5.44l.94 2.06.94-2.06 2.06-.94-2.06-.94-.94-2.06-.94 2.06-2.06.94zm-11 1L8.5 8.5l.94-2.06 2.06-.94-2.06-.94L8.5 2.5l-.94 2.06-2.06.94zm10 10l.94 2.06.94-2.06 2.06-.94-2.06-.94-.94-2.06-.94 2.06-2.06.94z\"/><path d=\"M17.41 7.96l-1.37-1.37c-.4-.4-.92-.59-1.43-.59-.52 0-1.04.2-1.43.59L10.3 9.45l-7.72 7.72c-.78.78-.78 2.05 0 2.83L4 21.41c.39.39.9.59 1.41.59.51 0 1.02-.2 1.41-.59l7.78-7.78 2.81-2.81c.8-.78.8-2.07 0-2.86zM5.41 20L4 18.59l7.72-7.72 1.47 1.35L5.41 20z\"/>\n",
              "  </svg>\n",
              "      </button>\n",
              "      \n",
              "  <style>\n",
              "    .colab-df-container {\n",
              "      display:flex;\n",
              "      flex-wrap:wrap;\n",
              "      gap: 12px;\n",
              "    }\n",
              "\n",
              "    .colab-df-convert {\n",
              "      background-color: #E8F0FE;\n",
              "      border: none;\n",
              "      border-radius: 50%;\n",
              "      cursor: pointer;\n",
              "      display: none;\n",
              "      fill: #1967D2;\n",
              "      height: 32px;\n",
              "      padding: 0 0 0 0;\n",
              "      width: 32px;\n",
              "    }\n",
              "\n",
              "    .colab-df-convert:hover {\n",
              "      background-color: #E2EBFA;\n",
              "      box-shadow: 0px 1px 2px rgba(60, 64, 67, 0.3), 0px 1px 3px 1px rgba(60, 64, 67, 0.15);\n",
              "      fill: #174EA6;\n",
              "    }\n",
              "\n",
              "    [theme=dark] .colab-df-convert {\n",
              "      background-color: #3B4455;\n",
              "      fill: #D2E3FC;\n",
              "    }\n",
              "\n",
              "    [theme=dark] .colab-df-convert:hover {\n",
              "      background-color: #434B5C;\n",
              "      box-shadow: 0px 1px 3px 1px rgba(0, 0, 0, 0.15);\n",
              "      filter: drop-shadow(0px 1px 2px rgba(0, 0, 0, 0.3));\n",
              "      fill: #FFFFFF;\n",
              "    }\n",
              "  </style>\n",
              "\n",
              "      <script>\n",
              "        const buttonEl =\n",
              "          document.querySelector('#df-5eb0bf99-4179-4f69-b028-6fdb99aa326d button.colab-df-convert');\n",
              "        buttonEl.style.display =\n",
              "          google.colab.kernel.accessAllowed ? 'block' : 'none';\n",
              "\n",
              "        async function convertToInteractive(key) {\n",
              "          const element = document.querySelector('#df-5eb0bf99-4179-4f69-b028-6fdb99aa326d');\n",
              "          const dataTable =\n",
              "            await google.colab.kernel.invokeFunction('convertToInteractive',\n",
              "                                                     [key], {});\n",
              "          if (!dataTable) return;\n",
              "\n",
              "          const docLinkHtml = 'Like what you see? Visit the ' +\n",
              "            '<a target=\"_blank\" href=https://colab.research.google.com/notebooks/data_table.ipynb>data table notebook</a>'\n",
              "            + ' to learn more about interactive tables.';\n",
              "          element.innerHTML = '';\n",
              "          dataTable['output_type'] = 'display_data';\n",
              "          await google.colab.output.renderOutput(dataTable, element);\n",
              "          const docLink = document.createElement('div');\n",
              "          docLink.innerHTML = docLinkHtml;\n",
              "          element.appendChild(docLink);\n",
              "        }\n",
              "      </script>\n",
              "    </div>\n",
              "  </div>\n",
              "  "
            ],
            "text/plain": [
              "   humidity  temperature  status\n",
              "0      68.0         32.3  NORMAL\n",
              "1      68.0         32.2  NORMAL\n",
              "2      68.0         32.2  NORMAL\n",
              "3      68.0         32.2  NORMAL\n",
              "4      68.0         32.2  NORMAL"
            ]
          },
          "metadata": {},
          "execution_count": 91
        }
      ]
    },
    {
      "cell_type": "markdown",
      "source": [
        "MEMFORMAT DATASET KE BENTUK FEATURE SETS(KUMPULAN ATRIBUT)"
      ],
      "metadata": {
        "id": "6ZQGTRC6FL5W"
      }
    },
    {
      "cell_type": "code",
      "source": [
        "df.columns"
      ],
      "metadata": {
        "colab": {
          "base_uri": "https://localhost:8080/"
        },
        "id": "N8BH3NcaqV_R",
        "outputId": "ce439132-0b79-4a06-f2e0-1b80848b7d98"
      },
      "execution_count": null,
      "outputs": [
        {
          "output_type": "execute_result",
          "data": {
            "text/plain": [
              "Index(['humidity', 'temperature', 'status'], dtype='object')"
            ]
          },
          "metadata": {},
          "execution_count": 92
        }
      ]
    },
    {
      "cell_type": "markdown",
      "source": [
        "CONVERT FORMAT DATA FRAME PANDAS KE ARRAY NUMPY"
      ],
      "metadata": {
        "id": "WK4UE19R8YYE"
      }
    },
    {
      "cell_type": "code",
      "source": [
        "X = df[['humidity','temperature']].values\n",
        "X[0:5]"
      ],
      "metadata": {
        "colab": {
          "base_uri": "https://localhost:8080/"
        },
        "id": "5eBSFVWFqct0",
        "outputId": "74521969-48da-4357-b8fc-9ba0843cded9"
      },
      "execution_count": null,
      "outputs": [
        {
          "output_type": "execute_result",
          "data": {
            "text/plain": [
              "array([[68. , 32.3],\n",
              "       [68. , 32.2],\n",
              "       [68. , 32.2],\n",
              "       [68. , 32.2],\n",
              "       [68. , 32.2]])"
            ]
          },
          "metadata": {},
          "execution_count": 93
        }
      ]
    },
    {
      "cell_type": "code",
      "source": [
        "y = df['status'].values\n",
        "y[0:5]"
      ],
      "metadata": {
        "colab": {
          "base_uri": "https://localhost:8080/"
        },
        "id": "3pnkqbWrqxSp",
        "outputId": "98c81c88-2521-4c14-a1c0-72ea8d2c62f4"
      },
      "execution_count": null,
      "outputs": [
        {
          "output_type": "execute_result",
          "data": {
            "text/plain": [
              "array(['NORMAL', 'NORMAL', 'NORMAL', 'NORMAL', 'NORMAL'], dtype=object)"
            ]
          },
          "metadata": {},
          "execution_count": 94
        }
      ]
    },
    {
      "cell_type": "markdown",
      "source": [
        "NORMALISASI DATA"
      ],
      "metadata": {
        "id": "NwslH-xVFvXC"
      }
    },
    {
      "cell_type": "code",
      "source": [
        "X = preprocessing.StandardScaler().fit(X).transform(X.astype(float))\n",
        "X[0:5]"
      ],
      "metadata": {
        "colab": {
          "base_uri": "https://localhost:8080/"
        },
        "id": "kuCGEWKUq7zB",
        "outputId": "dfbe5a5f-5b42-4033-8967-27052c3f51ba"
      },
      "execution_count": null,
      "outputs": [
        {
          "output_type": "execute_result",
          "data": {
            "text/plain": [
              "array([[ 1.17650612, -1.11673526],\n",
              "       [ 1.17650612, -1.187305  ],\n",
              "       [ 1.17650612, -1.187305  ],\n",
              "       [ 1.17650612, -1.187305  ],\n",
              "       [ 1.17650612, -1.187305  ]])"
            ]
          },
          "metadata": {},
          "execution_count": 95
        }
      ]
    },
    {
      "cell_type": "markdown",
      "source": [
        "MEMBAGI DATA TRAINING DAN DATA TEST. \n",
        "BANYAKNYA DATA TRAINING 80% DAN DATA TEST 20%"
      ],
      "metadata": {
        "id": "PsGwyj3uF87s"
      }
    },
    {
      "cell_type": "code",
      "source": [
        "from sklearn.model_selection import train_test_split\n",
        "\n",
        "X_train, X_test, y_train, y_test = train_test_split( X, y, test_size=0.2, random_state=100)\n",
        "\n",
        "print ('Train set:', X_train.shape,  y_train.shape)\n",
        "print ('Test set:', X_test.shape,  y_test.shape)"
      ],
      "metadata": {
        "colab": {
          "base_uri": "https://localhost:8080/"
        },
        "id": "pgrX8pc8t_GD",
        "outputId": "112f5f6b-0410-4047-e02b-54b0b4ddd6ed"
      },
      "execution_count": null,
      "outputs": [
        {
          "output_type": "stream",
          "name": "stdout",
          "text": [
            "Train set: (136, 2) (136,)\n",
            "Test set: (35, 2) (35,)\n"
          ]
        }
      ]
    },
    {
      "cell_type": "markdown",
      "source": [
        "MENGECEK PERSEBARAN DATA"
      ],
      "metadata": {
        "id": "qzAI-bcAGRbx"
      }
    },
    {
      "cell_type": "code",
      "source": [
        "import matplotlib.pyplot as plt\n",
        "\n",
        "\n",
        "plt.scatter(X_train[ np.nonzero(y_train == 'NORMAL'), 0 ], X_train[ np.nonzero(y_train == 'NORMAL'), 1 ])\n",
        "plt.scatter(X_train[ np.nonzero(y_train == 'PANAS'), 0 ], X_train[ np.nonzero(y_train == 'PANAS'), 1 ])\n",
        "plt.scatter(X_test[ np.nonzero(y_test == 'NORMAL'), 0 ], X_test[ np.nonzero(y_test == 'NORMAL'), 1 ])\n",
        "plt.scatter(X_train[ np.nonzero(y_test== 'PANAS'), 0 ], X_test[ np.nonzero(y_test == 'PANAS'), 1 ])\n",
        "plt.legend(['Normal train', 'Panas train', 'Normal tes', 'Panas tes'])\n",
        "plt.show()"
      ],
      "metadata": {
        "colab": {
          "base_uri": "https://localhost:8080/",
          "height": 265
        },
        "id": "nvt72l3B440v",
        "outputId": "a9f6eb9d-7df4-442c-96fb-fe993eb3691e"
      },
      "execution_count": null,
      "outputs": [
        {
          "output_type": "display_data",
          "data": {
            "image/png": "[encoded data removed]",
            "text/plain": [
              "<Figure size 432x288 with 1 Axes>"
            ]
          },
          "metadata": {
            "needs_background": "light"
          }
        }
      ]
    },
    {
      "cell_type": "markdown",
      "source": [
        "KLASIFIKASI K-NN"
      ],
      "metadata": {
        "id": "kw7i_9FiGa-s"
      }
    },
    {
      "cell_type": "code",
      "source": [
        "from sklearn.neighbors import KNeighborsClassifier\n",
        "from sklearn import metrics"
      ],
      "metadata": {
        "id": "ETrr0q42uLE3"
      },
      "execution_count": null,
      "outputs": []
    },
    {
      "cell_type": "code",
      "source": [
        "k = 3\n",
        "#Train Model and Predict  \n",
        "knn = KNeighborsClassifier(n_neighbors = k).fit(X_train,y_train)\n",
        "knn"
      ],
      "metadata": {
        "colab": {
          "base_uri": "https://localhost:8080/"
        },
        "id": "UzmLnhzZvRA0",
        "outputId": "e816aa31-fbda-4d4b-ce55-ea60f46528e2"
      },
      "execution_count": null,
      "outputs": [
        {
          "output_type": "execute_result",
          "data": {
            "text/plain": [
              "KNeighborsClassifier(n_neighbors=3)"
            ]
          },
          "metadata": {},
          "execution_count": 105
        }
      ]
    },
    {
      "cell_type": "code",
      "source": [
        "\n",
        "hasil = knn.predict(X_test)\n",
        "\n",
        "hasil"
      ],
      "metadata": {
        "colab": {
          "base_uri": "https://localhost:8080/"
        },
        "id": "dpUy-bajvUKK",
        "outputId": "5d4d35b3-7d49-4e89-f184-90f7cd8dc4f1"
      },
      "execution_count": null,
      "outputs": [
        {
          "output_type": "execute_result",
          "data": {
            "text/plain": [
              "array(['NORMAL', 'PANAS', 'PANAS', 'NORMAL', 'NORMAL', 'NORMAL', 'NORMAL',\n",
              "       'NORMAL', 'NORMAL', 'NORMAL', 'PANAS', 'NORMAL', 'NORMAL',\n",
              "       'NORMAL', 'NORMAL', 'NORMAL', 'PANAS', 'NORMAL', 'PANAS', 'PANAS',\n",
              "       'NORMAL', 'PANAS', 'PANAS', 'PANAS', 'PANAS', 'NORMAL', 'PANAS',\n",
              "       'PANAS', 'NORMAL', 'PANAS', 'NORMAL', 'PANAS', 'NORMAL', 'NORMAL',\n",
              "       'PANAS'], dtype=object)"
            ]
          },
          "metadata": {},
          "execution_count": 106
        }
      ]
    },
    {
      "cell_type": "markdown",
      "source": [
        "PEMBUKTIAN EVALUASI MODEL DENGAN CONFUSION MATRIX"
      ],
      "metadata": {
        "id": "dyI82g60I-Cj"
      }
    },
    {
      "cell_type": "code",
      "source": [
        "from sklearn.metrics import confusion_matrix\n",
        "from sklearn.metrics import classification_report\n",
        "from sklearn.metrics import accuracy_score\n",
        "from sklearn.metrics import recall_score\n",
        "from sklearn.metrics import precision_score\n",
        "from sklearn.metrics import f1_score\n",
        "from sklearn.metrics import classification_report\n",
        "\n",
        "actual = y_test;\n",
        "predicted =  knn.predict(X_test)\n",
        "\n",
        "matrix = confusion_matrix(actual,predicted)\n",
        "print('Confusion matrix : \\n',matrix)\n",
        "\n",
        "print('Accuracy_Score : ',accuracy_score(actual,predicted))\n",
        "print('Recall_Score : ',recall_score(actual,predicted,average=None))\n",
        "print('precision_Score : ',precision_score(actual,predicted,average=None))\n",
        "print('F1_Score : ',f1_score(actual,predicted,average=None))\n",
        "print('Report : \\n',classification_report(actual,predicted))\n"
      ],
      "metadata": {
        "colab": {
          "base_uri": "https://localhost:8080/"
        },
        "id": "ckBgbvmY9zYp",
        "outputId": "1d0749ba-aa4b-41a8-9d91-f724d0b8073c"
      },
      "execution_count": null,
      "outputs": [
        {
          "output_type": "stream",
          "name": "stdout",
          "text": [
            "Confusion matrix : \n",
            " [[20  1]\n",
            " [ 0 14]]\n",
            "Accuracy_Score :  0.9714285714285714\n",
            "Recall_Score :  [0.95238095 1.        ]\n",
            "precision_Score :  [1.         0.93333333]\n",
            "F1_Score :  [0.97560976 0.96551724]\n",
            "Report : \n",
            "               precision    recall  f1-score   support\n",
            "\n",
            "      NORMAL       1.00      0.95      0.98        21\n",
            "       PANAS       0.93      1.00      0.97        14\n",
            "\n",
            "    accuracy                           0.97        35\n",
            "   macro avg       0.97      0.98      0.97        35\n",
            "weighted avg       0.97      0.97      0.97        35\n",
            "\n"
          ]
        }
      ]
    },
    {
      "cell_type": "code",
      "source": [
        "\n",
        "\n",
        "actual = y_train;\n",
        "predicted =  knn.predict(X_train)\n",
        "\n",
        "matrix = confusion_matrix(actual,predicted)\n",
        "print('Confusion matrix : \\n',matrix)\n",
        "\n",
        "print('Accuracy_Score : ',accuracy_score(actual,predicted))\n",
        "print('Recall_Score : ',recall_score(actual,predicted,average=None))\n",
        "print('precision_Score : ',precision_score(actual,predicted,average=None))\n",
        "print('F1_Score : ',f1_score(actual,predicted,average=None))\n",
        "print('Report : \\n',classification_report(actual,predicted))"
      ],
      "metadata": {
        "colab": {
          "base_uri": "https://localhost:8080/"
        },
        "id": "2xKb-muITtBL",
        "outputId": "8837c49b-5420-44aa-9dc3-84ad033c90f7"
      },
      "execution_count": null,
      "outputs": [
        {
          "output_type": "stream",
          "name": "stdout",
          "text": [
            "Confusion matrix : \n",
            " [[72  1]\n",
            " [ 0 63]]\n",
            "Accuracy_Score :  0.9926470588235294\n",
            "Recall_Score :  [0.98630137 1.        ]\n",
            "precision_Score :  [1.       0.984375]\n",
            "F1_Score :  [0.99310345 0.99212598]\n",
            "Report : \n",
            "               precision    recall  f1-score   support\n",
            "\n",
            "      NORMAL       1.00      0.99      0.99        73\n",
            "       PANAS       0.98      1.00      0.99        63\n",
            "\n",
            "    accuracy                           0.99       136\n",
            "   macro avg       0.99      0.99      0.99       136\n",
            "weighted avg       0.99      0.99      0.99       136\n",
            "\n"
          ]
        }
      ]
    }
  ]
}